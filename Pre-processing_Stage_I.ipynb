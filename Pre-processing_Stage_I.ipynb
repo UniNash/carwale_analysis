{
 "cells": [
  {
   "cell_type": "markdown",
   "id": "4dfd7918-3a17-4761-a63b-9848367d107d",
   "metadata": {},
   "source": [
    "# <div style = \"padding: 20px; border-radius: 5px; background-color: #311B92;color: white\"><center>PRE-PROCESSING STAGE-I - DATASET A and B</center></DIV>"
   ]
  },
  {
   "cell_type": "markdown",
   "id": "8571dcb5-8f4d-458f-8eaf-6d6aab8071c7",
   "metadata": {
    "jp-MarkdownHeadingCollapsed": true
   },
   "source": [
    "## SCOPE"
   ]
  },
  {
   "cell_type": "markdown",
   "id": "fd4e5673-ac2c-4a47-95c5-466379d26011",
   "metadata": {},
   "source": [
    "- Processing Dataset A and Dataset B \n",
    "- The scope of the 1st stage of pre-processing is to check if the data of all the cars for all the 3 sections were extracted properly.\n",
    "- Dataset A contains data for all the cities.\n",
    "- Dataset B contains data for all cities with majority of data from cities- CHENNAI, HYDERABAD, BANGALORE, DELHI, MUMBAI"
   ]
  },
  {
   "cell_type": "markdown",
   "id": "dc9666b3-41e4-4e0b-9b3c-0b16cb71ed03",
   "metadata": {
    "jp-MarkdownHeadingCollapsed": true
   },
   "source": [
    "## IMPORTING LIBRARIES"
   ]
  },
  {
   "cell_type": "code",
   "execution_count": 1,
   "id": "43a57d91-d8a4-446e-ac29-f7864ca41449",
   "metadata": {},
   "outputs": [],
   "source": [
    "# importing required libraries for pre-processing\n",
    "\n",
    "import pandas as pd\n",
    "import json                      # to read the json file\n",
    "\n",
    "import os"
   ]
  },
  {
   "cell_type": "markdown",
   "id": "8b8c8996-db85-423a-886d-a69f3936771c",
   "metadata": {},
   "source": [
    "- reading 1st batch data to very"
   ]
  },
  {
   "cell_type": "code",
   "execution_count": 2,
   "id": "c348db68-f621-49af-8072-e56ee7600e10",
   "metadata": {},
   "outputs": [
    {
     "data": {
      "text/plain": [
       "'C:\\\\Users\\\\pryns\\\\OneDrive\\\\Documents\\\\Python Works\\\\zz.carwale data'"
      ]
     },
     "execution_count": 2,
     "metadata": {},
     "output_type": "execute_result"
    }
   ],
   "source": [
    "# getting the current/main working directory\n",
    "os.getcwd()"
   ]
  },
  {
   "cell_type": "markdown",
   "id": "8622767b-58ae-4507-86e2-1cdcfd1a06f0",
   "metadata": {},
   "source": [
    "## <div style = \"padding: 20px; border-radius: 40px; background-color: #40E0D0\"> Dataset A </div>"
   ]
  },
  {
   "cell_type": "markdown",
   "id": "70dae8fa-28bd-448c-8a54-2f9170a33a36",
   "metadata": {
    "jp-MarkdownHeadingCollapsed": true
   },
   "source": [
    "### CHECKING `Overview` DATA"
   ]
  },
  {
   "cell_type": "code",
   "execution_count": 10,
   "id": "a7feae8f-e86d-4c98-80f4-f3058d39d6c8",
   "metadata": {},
   "outputs": [],
   "source": [
    "# looping through the directories within the main directory and reading the car overview data\n",
    "\n",
    "car_overview_data = []\n",
    "data_len = []\n",
    "\n",
    "file = 'car_overview.json'\n",
    "path = r\"C:\\Users\\pryns\\OneDrive\\Documents\\Python Works\\zz.carwale data\\01.Data Extraction\\carwale_dataset_A\"\n",
    "\n",
    "\n",
    "# returns the list of directories within the main directory\n",
    "for dir in list(os.walk(path))[0][1]:\n",
    "    with open(os.path.join(path,dir,file),'r') as f:\n",
    "        car_data = json.loads(f.read())\n",
    "    data_len.append(len(car_data))          # storing the length of each file for verification purpose\n",
    "    car_overview_data.extend(car_data)\n",
    "    "
   ]
  },
  {
   "cell_type": "code",
   "execution_count": 11,
   "id": "85324834-6ff9-4085-b23d-bb24cad799b1",
   "metadata": {},
   "outputs": [
    {
     "data": {
      "text/plain": [
       "16"
      ]
     },
     "execution_count": 11,
     "metadata": {},
     "output_type": "execute_result"
    }
   ],
   "source": [
    "# 16 folders were checked\n",
    "len(data_len)"
   ]
  },
  {
   "cell_type": "code",
   "execution_count": 12,
   "id": "3363ab73-49a5-412d-8731-e6ee8bcf2af9",
   "metadata": {},
   "outputs": [
    {
     "data": {
      "text/plain": [
       "112559"
      ]
     },
     "execution_count": 12,
     "metadata": {},
     "output_type": "execute_result"
    }
   ],
   "source": [
    "# checking the no. of car records extracted\n",
    "len(car_overview_data)"
   ]
  },
  {
   "cell_type": "code",
   "execution_count": 13,
   "id": "2339477e-b467-41a9-bf9a-9418b0129c7e",
   "metadata": {},
   "outputs": [
    {
     "data": {
      "text/plain": [
       "112559"
      ]
     },
     "execution_count": 13,
     "metadata": {},
     "output_type": "execute_result"
    }
   ],
   "source": [
    "# verifying no. of records against each file\n",
    "sum(data_len)"
   ]
  },
  {
   "cell_type": "code",
   "execution_count": 14,
   "id": "96b58e92-8674-45e3-a4f1-a0dcfbf7b56a",
   "metadata": {},
   "outputs": [],
   "source": [
    "# converting the list of dictionaries into dataframe\n",
    "\n",
    "df_overview_A = pd.DataFrame(car_overview_data)"
   ]
  },
  {
   "cell_type": "code",
   "execution_count": 15,
   "id": "a6140ae0-f31a-4e71-8015-2aab86e9dc90",
   "metadata": {},
   "outputs": [
    {
     "data": {
      "text/html": [
       "<div>\n",
       "<style scoped>\n",
       "    .dataframe tbody tr th:only-of-type {\n",
       "        vertical-align: middle;\n",
       "    }\n",
       "\n",
       "    .dataframe tbody tr th {\n",
       "        vertical-align: top;\n",
       "    }\n",
       "\n",
       "    .dataframe thead th {\n",
       "        text-align: right;\n",
       "    }\n",
       "</style>\n",
       "<table border=\"1\" class=\"dataframe\">\n",
       "  <thead>\n",
       "    <tr style=\"text-align: right;\">\n",
       "      <th></th>\n",
       "      <th>carId</th>\n",
       "      <th>profileId</th>\n",
       "      <th>vehicle</th>\n",
       "      <th>city</th>\n",
       "      <th>state</th>\n",
       "      <th>price</th>\n",
       "      <th>color</th>\n",
       "      <th>kilometers</th>\n",
       "      <th>fuelName</th>\n",
       "      <th>transmissionType</th>\n",
       "      <th>...</th>\n",
       "      <th>formattedRegistrationDate</th>\n",
       "      <th>fuelEconomy</th>\n",
       "      <th>dealershipLogoUrl</th>\n",
       "      <th>isSold</th>\n",
       "      <th>oemVehicleUrl</th>\n",
       "      <th>virtualPhoneNumber</th>\n",
       "      <th>homeTestDriveSlug</th>\n",
       "      <th>formattedOriginalPrice</th>\n",
       "      <th>stockId</th>\n",
       "      <th>additionalFuelName</th>\n",
       "    </tr>\n",
       "  </thead>\n",
       "  <tbody>\n",
       "    <tr>\n",
       "      <th>0</th>\n",
       "      <td>1</td>\n",
       "      <td>S2725575</td>\n",
       "      <td>Mercedes-Benz GLE 300d 4MATIC LWB</td>\n",
       "      <td>A&amp;N Islands</td>\n",
       "      <td>Andaman Nicobar</td>\n",
       "      <td>75 Lakh</td>\n",
       "      <td>Polar White</td>\n",
       "      <td>6,000</td>\n",
       "      <td>Diesel + Diesel</td>\n",
       "      <td>Automatic</td>\n",
       "      <td>...</td>\n",
       "      <td>Not Available</td>\n",
       "      <td>Not Available</td>\n",
       "      <td></td>\n",
       "      <td>False</td>\n",
       "      <td>NaN</td>\n",
       "      <td>NaN</td>\n",
       "      <td>NaN</td>\n",
       "      <td>NaN</td>\n",
       "      <td>NaN</td>\n",
       "      <td>NaN</td>\n",
       "    </tr>\n",
       "    <tr>\n",
       "      <th>1</th>\n",
       "      <td>2</td>\n",
       "      <td>S2730115</td>\n",
       "      <td>Maruti Suzuki Vitara Brezza VDi (O) [2016-2018]</td>\n",
       "      <td>A&amp;N Islands</td>\n",
       "      <td>Andaman Nicobar</td>\n",
       "      <td>6 Lakh</td>\n",
       "      <td>White</td>\n",
       "      <td>55,000</td>\n",
       "      <td>Diesel + Diesel</td>\n",
       "      <td>Manual</td>\n",
       "      <td>...</td>\n",
       "      <td>Not Available</td>\n",
       "      <td>Not Available</td>\n",
       "      <td></td>\n",
       "      <td>False</td>\n",
       "      <td>NaN</td>\n",
       "      <td>NaN</td>\n",
       "      <td>NaN</td>\n",
       "      <td>NaN</td>\n",
       "      <td>NaN</td>\n",
       "      <td>NaN</td>\n",
       "    </tr>\n",
       "  </tbody>\n",
       "</table>\n",
       "<p>2 rows × 61 columns</p>\n",
       "</div>"
      ],
      "text/plain": [
       "   carId profileId                                          vehicle  \\\n",
       "0      1  S2725575                Mercedes-Benz GLE 300d 4MATIC LWB   \n",
       "1      2  S2730115  Maruti Suzuki Vitara Brezza VDi (O) [2016-2018]   \n",
       "\n",
       "          city            state    price        color kilometers  \\\n",
       "0  A&N Islands  Andaman Nicobar  75 Lakh  Polar White      6,000   \n",
       "1  A&N Islands  Andaman Nicobar   6 Lakh        White     55,000   \n",
       "\n",
       "          fuelName transmissionType  ...  formattedRegistrationDate  \\\n",
       "0  Diesel + Diesel        Automatic  ...              Not Available   \n",
       "1  Diesel + Diesel           Manual  ...              Not Available   \n",
       "\n",
       "     fuelEconomy dealershipLogoUrl isSold oemVehicleUrl virtualPhoneNumber  \\\n",
       "0  Not Available                    False           NaN                NaN   \n",
       "1  Not Available                    False           NaN                NaN   \n",
       "\n",
       "  homeTestDriveSlug formattedOriginalPrice stockId additionalFuelName  \n",
       "0               NaN                    NaN     NaN                NaN  \n",
       "1               NaN                    NaN     NaN                NaN  \n",
       "\n",
       "[2 rows x 61 columns]"
      ]
     },
     "execution_count": 15,
     "metadata": {},
     "output_type": "execute_result"
    }
   ],
   "source": [
    "df_overview_A.head(2)"
   ]
  },
  {
   "cell_type": "code",
   "execution_count": 17,
   "id": "16c32105-a10d-4fa0-b4e1-5e2c4bf8b334",
   "metadata": {},
   "outputs": [
    {
     "data": {
      "text/plain": [
       "Index(['carId', 'profileId', 'vehicle', 'city', 'state', 'price', 'color',\n",
       "       'kilometers', 'fuelName', 'transmissionType', 'sellerId', 'insurance',\n",
       "       'insuranceExpiry', 'interiorColor', 'lifeTimeTax', 'insuranceLink',\n",
       "       'makeName', 'modelName', 'versionName', 'mainImageUrl', 'photoCount',\n",
       "       'makeYear', 'makeMonth', 'cityMaskingName', 'cityName', 'cityId',\n",
       "       'noOfOwners', 'registerCity', 'carAvailbaleAt', 'lastUpdatedDate',\n",
       "       'totalPhotosUploaded', 'similarCarsUrl', 'stockRecommendationUrl',\n",
       "       'cwBasePackageId', 'ctePackageId', 'modelId', 'versionId',\n",
       "       'registrationNumber', 'tcStockId', 'regType', 'priceNumeric',\n",
       "       'isCertified', 'videoUrl', 'modelMaskingName', 'rootName',\n",
       "       'bodyStyleId', 'isSellCarOfferAvailable', 'allowBooking', 'emiPrice',\n",
       "       'shouldShowEmiSlug', 'isHomeTestDrive', 'formattedRegistrationDate',\n",
       "       'fuelEconomy', 'dealershipLogoUrl', 'isSold', 'oemVehicleUrl',\n",
       "       'virtualPhoneNumber', 'homeTestDriveSlug', 'formattedOriginalPrice',\n",
       "       'stockId', 'additionalFuelName'],\n",
       "      dtype='object')"
      ]
     },
     "execution_count": 17,
     "metadata": {},
     "output_type": "execute_result"
    }
   ],
   "source": [
    "df_overview_A.columns"
   ]
  },
  {
   "cell_type": "code",
   "execution_count": 18,
   "id": "89591b2c-1c07-4aa1-84fd-df541501763e",
   "metadata": {
    "scrolled": true
   },
   "outputs": [
    {
     "name": "stdout",
     "output_type": "stream",
     "text": [
      "<class 'pandas.core.frame.DataFrame'>\n",
      "RangeIndex: 112559 entries, 0 to 112558\n",
      "Data columns (total 61 columns):\n",
      " #   Column                     Non-Null Count   Dtype \n",
      "---  ------                     --------------   ----- \n",
      " 0   carId                      112559 non-null  int64 \n",
      " 1   profileId                  112559 non-null  object\n",
      " 2   vehicle                    112559 non-null  object\n",
      " 3   city                       112559 non-null  object\n",
      " 4   state                      112559 non-null  object\n",
      " 5   price                      112559 non-null  object\n",
      " 6   color                      112559 non-null  object\n",
      " 7   kilometers                 112559 non-null  object\n",
      " 8   fuelName                   112559 non-null  object\n",
      " 9   transmissionType           112559 non-null  object\n",
      " 10  sellerId                   112559 non-null  int64 \n",
      " 11  insurance                  112559 non-null  object\n",
      " 12  insuranceExpiry            112559 non-null  object\n",
      " 13  interiorColor              112559 non-null  object\n",
      " 14  lifeTimeTax                111690 non-null  object\n",
      " 15  insuranceLink              112559 non-null  object\n",
      " 16  makeName                   112559 non-null  object\n",
      " 17  modelName                  112559 non-null  object\n",
      " 18  versionName                112559 non-null  object\n",
      " 19  mainImageUrl               88581 non-null   object\n",
      " 20  photoCount                 112559 non-null  int64 \n",
      " 21  makeYear                   112559 non-null  object\n",
      " 22  makeMonth                  112559 non-null  object\n",
      " 23  cityMaskingName            112542 non-null  object\n",
      " 24  cityName                   112559 non-null  object\n",
      " 25  cityId                     112559 non-null  int64 \n",
      " 26  noOfOwners                 112559 non-null  object\n",
      " 27  registerCity               112559 non-null  object\n",
      " 28  carAvailbaleAt             112559 non-null  object\n",
      " 29  lastUpdatedDate            112559 non-null  object\n",
      " 30  totalPhotosUploaded        112559 non-null  int64 \n",
      " 31  similarCarsUrl             112559 non-null  object\n",
      " 32  stockRecommendationUrl     111690 non-null  object\n",
      " 33  cwBasePackageId            112559 non-null  int64 \n",
      " 34  ctePackageId               112559 non-null  int64 \n",
      " 35  modelId                    112559 non-null  int64 \n",
      " 36  versionId                  112559 non-null  int64 \n",
      " 37  registrationNumber         111690 non-null  object\n",
      " 38  tcStockId                  111690 non-null  object\n",
      " 39  regType                    112559 non-null  object\n",
      " 40  priceNumeric               112559 non-null  object\n",
      " 41  isCertified                112559 non-null  bool  \n",
      " 42  videoUrl                   111690 non-null  object\n",
      " 43  modelMaskingName           112559 non-null  object\n",
      " 44  rootName                   112559 non-null  object\n",
      " 45  bodyStyleId                112559 non-null  object\n",
      " 46  isSellCarOfferAvailable    112559 non-null  bool  \n",
      " 47  allowBooking               112559 non-null  bool  \n",
      " 48  emiPrice                   112559 non-null  object\n",
      " 49  shouldShowEmiSlug          112559 non-null  bool  \n",
      " 50  isHomeTestDrive            112559 non-null  bool  \n",
      " 51  formattedRegistrationDate  112559 non-null  object\n",
      " 52  fuelEconomy                112559 non-null  object\n",
      " 53  dealershipLogoUrl          112559 non-null  object\n",
      " 54  isSold                     112559 non-null  bool  \n",
      " 55  oemVehicleUrl              77932 non-null   object\n",
      " 56  virtualPhoneNumber         77991 non-null   object\n",
      " 57  homeTestDriveSlug          78801 non-null   object\n",
      " 58  formattedOriginalPrice     3761 non-null    object\n",
      " 59  stockId                    869 non-null     object\n",
      " 60  additionalFuelName         869 non-null     object\n",
      "dtypes: bool(6), int64(9), object(46)\n",
      "memory usage: 47.9+ MB\n"
     ]
    }
   ],
   "source": [
    "# checking the dataframe columns and datatypes\n",
    "\n",
    "df_overview_A.info()"
   ]
  },
  {
   "cell_type": "code",
   "execution_count": 19,
   "id": "9e284a5f-75c4-4fb1-a15a-9448c279257b",
   "metadata": {},
   "outputs": [
    {
     "data": {
      "text/plain": [
       "(112559, 61)"
      ]
     },
     "execution_count": 19,
     "metadata": {},
     "output_type": "execute_result"
    }
   ],
   "source": [
    "df_overview_A.shape"
   ]
  },
  {
   "cell_type": "markdown",
   "id": "391e047e-ba43-4a8a-98e2-d3f14138fd18",
   "metadata": {},
   "source": [
    "- in total there are 112559 records (including duplicates)"
   ]
  },
  {
   "cell_type": "markdown",
   "id": "e81d6865-3fb5-4318-b117-72d6d69c50d2",
   "metadata": {},
   "source": [
    "- `profileId` are distinct car identities and will be used to identify each car\n",
    "- there are 59708 unique cars from various cities (excluding the duplicates)"
   ]
  },
  {
   "cell_type": "code",
   "execution_count": 20,
   "id": "cb731462-6d02-4b43-b9a0-2b212c7a9fcf",
   "metadata": {},
   "outputs": [
    {
     "data": {
      "text/plain": [
       "(59708,)"
      ]
     },
     "execution_count": 20,
     "metadata": {},
     "output_type": "execute_result"
    }
   ],
   "source": [
    "df_overview_A['profileId'].unique().shape"
   ]
  },
  {
   "cell_type": "markdown",
   "id": "24257bbc-03c7-42d7-8def-e24a57a60187",
   "metadata": {
    "jp-MarkdownHeadingCollapsed": true
   },
   "source": [
    "### CHECKING  `Specifications` AND `Features` DATA"
   ]
  },
  {
   "cell_type": "markdown",
   "id": "6e207b2e-933a-44f3-bacf-1edf2ac438db",
   "metadata": {},
   "source": [
    "- using a similar strategy as used for overview data above to consolidate the specification and features data in a separate file\n"
   ]
  },
  {
   "cell_type": "code",
   "execution_count": 23,
   "id": "f9a6c099-96a4-481b-8650-392b7dffaf73",
   "metadata": {},
   "outputs": [],
   "source": [
    "# creating a function to consolidate specs/features into a single dataframe\n",
    "\n",
    "def extract_combine(file_name):\n",
    "    file = file_name\n",
    "    \n",
    "    # main path\n",
    "    path = r\"C:\\Users\\pryns\\OneDrive\\Documents\\Python Works\\zz.carwale data\\01.Data Extraction\\carwale_dataset_A\"\n",
    "\n",
    "    df_len = []  # storing the length of each file for verification purpose\n",
    "\n",
    "    # returns the list of directories within the main directory\n",
    "    # looping through the directories and reading the specifications data and combining them into a single dataframe\n",
    "    \n",
    "    for dir in list(os.walk(path))[0][1]:\n",
    "        df_item = pd.read_csv(os.path.join(path,dir,file))\n",
    "        try:\n",
    "            df_items = pd.concat([df_items,df_item])\n",
    "        except:\n",
    "            cols = df_item.columns\n",
    "            df_items = pd.DataFrame(columns = cols)\n",
    "            df_items = pd.concat([df_items,df_item])\n",
    "        df_len.append(df_item.shape[0])  # storing the length of each file for verification purpose\n",
    "\n",
    "    return (df_items,df_len)     #returning the final dataframe and the list of lengths of each file"
   ]
  },
  {
   "cell_type": "markdown",
   "id": "9e615d38-aec3-4f37-9e5e-de50e4bf2458",
   "metadata": {},
   "source": [
    "#### SPECIFICATIONS"
   ]
  },
  {
   "cell_type": "code",
   "execution_count": 24,
   "id": "48cc218f-8b49-4ec5-be68-687de65e71a3",
   "metadata": {},
   "outputs": [],
   "source": [
    "# consolidating specifications\n",
    "df_specs_A, df_spec_len_A = extract_combine('car_specs.csv')"
   ]
  },
  {
   "cell_type": "code",
   "execution_count": 25,
   "id": "ad9bcc06-b332-4ed4-ba32-b9488064f73a",
   "metadata": {},
   "outputs": [
    {
     "data": {
      "text/html": [
       "<div>\n",
       "<style scoped>\n",
       "    .dataframe tbody tr th:only-of-type {\n",
       "        vertical-align: middle;\n",
       "    }\n",
       "\n",
       "    .dataframe tbody tr th {\n",
       "        vertical-align: top;\n",
       "    }\n",
       "\n",
       "    .dataframe thead th {\n",
       "        text-align: right;\n",
       "    }\n",
       "</style>\n",
       "<table border=\"1\" class=\"dataframe\">\n",
       "  <thead>\n",
       "    <tr style=\"text-align: right;\">\n",
       "      <th></th>\n",
       "      <th>specName</th>\n",
       "      <th>specValue</th>\n",
       "      <th>specUnit</th>\n",
       "      <th>spec_category</th>\n",
       "      <th>carId</th>\n",
       "      <th>profileId</th>\n",
       "      <th>vehicle</th>\n",
       "      <th>city</th>\n",
       "      <th>state</th>\n",
       "    </tr>\n",
       "  </thead>\n",
       "  <tbody>\n",
       "    <tr>\n",
       "      <th>0</th>\n",
       "      <td>Top Speed</td>\n",
       "      <td>225</td>\n",
       "      <td>Kmph</td>\n",
       "      <td>Engine &amp; Transmission</td>\n",
       "      <td>1</td>\n",
       "      <td>S2725575</td>\n",
       "      <td>Mercedes-Benz GLE 300d 4MATIC LWB</td>\n",
       "      <td>A&amp;N Islands</td>\n",
       "      <td>Andaman Nicobar</td>\n",
       "    </tr>\n",
       "    <tr>\n",
       "      <th>1</th>\n",
       "      <td>Acceleration (0-100 kmph)</td>\n",
       "      <td>7.2</td>\n",
       "      <td>seconds</td>\n",
       "      <td>Engine &amp; Transmission</td>\n",
       "      <td>1</td>\n",
       "      <td>S2725575</td>\n",
       "      <td>Mercedes-Benz GLE 300d 4MATIC LWB</td>\n",
       "      <td>A&amp;N Islands</td>\n",
       "      <td>Andaman Nicobar</td>\n",
       "    </tr>\n",
       "  </tbody>\n",
       "</table>\n",
       "</div>"
      ],
      "text/plain": [
       "                    specName specValue specUnit          spec_category carId  \\\n",
       "0                  Top Speed       225     Kmph  Engine & Transmission     1   \n",
       "1  Acceleration (0-100 kmph)       7.2  seconds  Engine & Transmission     1   \n",
       "\n",
       "  profileId                            vehicle         city            state  \n",
       "0  S2725575  Mercedes-Benz GLE 300d 4MATIC LWB  A&N Islands  Andaman Nicobar  \n",
       "1  S2725575  Mercedes-Benz GLE 300d 4MATIC LWB  A&N Islands  Andaman Nicobar  "
      ]
     },
     "execution_count": 25,
     "metadata": {},
     "output_type": "execute_result"
    }
   ],
   "source": [
    "df_specs_A.head(2)"
   ]
  },
  {
   "cell_type": "code",
   "execution_count": 26,
   "id": "47a7f37b-abb4-4ac2-97a8-276015d0460c",
   "metadata": {},
   "outputs": [
    {
     "data": {
      "text/plain": [
       "16"
      ]
     },
     "execution_count": 26,
     "metadata": {},
     "output_type": "execute_result"
    }
   ],
   "source": [
    "# verifying the no. of data files extracted - 16 - which is correct\n",
    "len(df_spec_len_A)"
   ]
  },
  {
   "cell_type": "code",
   "execution_count": 27,
   "id": "59095b82-2ad1-4aa7-99bc-293f6897c994",
   "metadata": {},
   "outputs": [
    {
     "data": {
      "text/plain": [
       "(3191958, 9)"
      ]
     },
     "execution_count": 27,
     "metadata": {},
     "output_type": "execute_result"
    }
   ],
   "source": [
    "df_specs_A.shape"
   ]
  },
  {
   "cell_type": "code",
   "execution_count": 28,
   "id": "b3f4fc0a-5d7e-4e1d-8c88-44df5fd782a4",
   "metadata": {},
   "outputs": [
    {
     "data": {
      "text/plain": [
       "3191958"
      ]
     },
     "execution_count": 28,
     "metadata": {},
     "output_type": "execute_result"
    }
   ],
   "source": [
    "sum(df_spec_len_A)"
   ]
  },
  {
   "cell_type": "code",
   "execution_count": 29,
   "id": "4bf95f63-84b4-4297-bbf9-742aec4d86d9",
   "metadata": {},
   "outputs": [
    {
     "data": {
      "text/plain": [
       "True"
      ]
     },
     "execution_count": 29,
     "metadata": {},
     "output_type": "execute_result"
    }
   ],
   "source": [
    "#verifying each file records with the consilidated dataframe\n",
    "sum(df_spec_len_A) == df_specs_A.shape[0]"
   ]
  },
  {
   "cell_type": "markdown",
   "id": "f66585f6-7901-4c69-9782-8fcf36d1c70d",
   "metadata": {},
   "source": [
    "#### FEATURES"
   ]
  },
  {
   "cell_type": "code",
   "execution_count": 30,
   "id": "f12d9916-aeb4-4aa2-a5cf-31e48b6f0518",
   "metadata": {},
   "outputs": [],
   "source": [
    "# consolidating features\n",
    "df_feats_A, df_feat_len_A = extract_combine('car_features.csv')"
   ]
  },
  {
   "cell_type": "code",
   "execution_count": 31,
   "id": "e47b0246-e1b3-41c5-ab66-732fedc268e8",
   "metadata": {},
   "outputs": [
    {
     "data": {
      "text/html": [
       "<div>\n",
       "<style scoped>\n",
       "    .dataframe tbody tr th:only-of-type {\n",
       "        vertical-align: middle;\n",
       "    }\n",
       "\n",
       "    .dataframe tbody tr th {\n",
       "        vertical-align: top;\n",
       "    }\n",
       "\n",
       "    .dataframe thead th {\n",
       "        text-align: right;\n",
       "    }\n",
       "</style>\n",
       "<table border=\"1\" class=\"dataframe\">\n",
       "  <thead>\n",
       "    <tr style=\"text-align: right;\">\n",
       "      <th></th>\n",
       "      <th>itemName</th>\n",
       "      <th>itemValue</th>\n",
       "      <th>feature_category</th>\n",
       "      <th>carId</th>\n",
       "      <th>profileId</th>\n",
       "      <th>vehicle</th>\n",
       "      <th>city</th>\n",
       "      <th>state</th>\n",
       "    </tr>\n",
       "  </thead>\n",
       "  <tbody>\n",
       "    <tr>\n",
       "      <th>0</th>\n",
       "      <td>Overspeed Warning</td>\n",
       "      <td>True</td>\n",
       "      <td>Safety</td>\n",
       "      <td>1</td>\n",
       "      <td>S2725575</td>\n",
       "      <td>Mercedes-Benz GLE 300d 4MATIC LWB</td>\n",
       "      <td>A&amp;N Islands</td>\n",
       "      <td>Andaman Nicobar</td>\n",
       "    </tr>\n",
       "    <tr>\n",
       "      <th>1</th>\n",
       "      <td>Lane Departure Warning</td>\n",
       "      <td>False</td>\n",
       "      <td>Safety</td>\n",
       "      <td>1</td>\n",
       "      <td>S2725575</td>\n",
       "      <td>Mercedes-Benz GLE 300d 4MATIC LWB</td>\n",
       "      <td>A&amp;N Islands</td>\n",
       "      <td>Andaman Nicobar</td>\n",
       "    </tr>\n",
       "  </tbody>\n",
       "</table>\n",
       "</div>"
      ],
      "text/plain": [
       "                 itemName itemValue feature_category carId profileId  \\\n",
       "0       Overspeed Warning      True           Safety     1  S2725575   \n",
       "1  Lane Departure Warning     False           Safety     1  S2725575   \n",
       "\n",
       "                             vehicle         city            state  \n",
       "0  Mercedes-Benz GLE 300d 4MATIC LWB  A&N Islands  Andaman Nicobar  \n",
       "1  Mercedes-Benz GLE 300d 4MATIC LWB  A&N Islands  Andaman Nicobar  "
      ]
     },
     "execution_count": 31,
     "metadata": {},
     "output_type": "execute_result"
    }
   ],
   "source": [
    "df_feats_A.head(2)"
   ]
  },
  {
   "cell_type": "code",
   "execution_count": 32,
   "id": "bfe57561-ff50-43ac-b300-8659d2b8e888",
   "metadata": {},
   "outputs": [
    {
     "data": {
      "text/plain": [
       "16"
      ]
     },
     "execution_count": 32,
     "metadata": {},
     "output_type": "execute_result"
    }
   ],
   "source": [
    "len(df_feat_len_A)"
   ]
  },
  {
   "cell_type": "code",
   "execution_count": 33,
   "id": "f640182e-ce8e-4fa7-9302-4da2bf6c30b0",
   "metadata": {},
   "outputs": [
    {
     "data": {
      "text/plain": [
       "(15897790, 8)"
      ]
     },
     "execution_count": 33,
     "metadata": {},
     "output_type": "execute_result"
    }
   ],
   "source": [
    "df_feats_A.shape"
   ]
  },
  {
   "cell_type": "code",
   "execution_count": 34,
   "id": "6f27476a-bf72-488c-9161-fbc6e7cabefb",
   "metadata": {},
   "outputs": [
    {
     "data": {
      "text/plain": [
       "True"
      ]
     },
     "execution_count": 34,
     "metadata": {},
     "output_type": "execute_result"
    }
   ],
   "source": [
    "#verifying each file records with the consilidated dataframe\n",
    "sum(df_feat_len_A) == df_feats_A.shape[0]"
   ]
  },
  {
   "cell_type": "markdown",
   "id": "74ad967d-61c0-4b01-a944-1a4b607c47bf",
   "metadata": {
    "jp-MarkdownHeadingCollapsed": true
   },
   "source": [
    "### VERIFYING DATA"
   ]
  },
  {
   "cell_type": "markdown",
   "id": "53b81737-2a57-44fd-ab2f-2ad2e494c6ca",
   "metadata": {},
   "source": [
    "- `profileId` is a unique identifier of each record/car\n",
    "- this identifier is used to check if all the data in each section is available for all the cars"
   ]
  },
  {
   "cell_type": "markdown",
   "id": "9782527b-d3d6-4e5c-8ce8-6c4671d2546b",
   "metadata": {},
   "source": [
    "- finding unique `profileId` values for overview, specifications and features data first\n",
    "- as this is the main data against which we will be combining other data."
   ]
  },
  {
   "cell_type": "code",
   "execution_count": 35,
   "id": "b826c3a5-d4f1-4d37-968e-b3835c342605",
   "metadata": {},
   "outputs": [
    {
     "name": "stdout",
     "output_type": "stream",
     "text": [
      "unique overview records:       59708\n",
      "unique specification records:  58908\n",
      "unique feature records:        58541\n"
     ]
    }
   ],
   "source": [
    "print(\"unique overview records:      \",df_overview_A['profileId'].unique().shape[0])\n",
    "print(\"unique specification records: \",df_specs_A['profileId'].unique().shape[0])\n",
    "print(\"unique feature records:       \",df_feats_A['profileId'].unique().shape[0])"
   ]
  },
  {
   "cell_type": "markdown",
   "id": "d8a00d1f-d4c3-46a0-98d2-7edd2622f03c",
   "metadata": {},
   "source": [
    "- some difference in records w.r.t profileId can be found between overview and specifications as well as features"
   ]
  },
  {
   "cell_type": "code",
   "execution_count": 36,
   "id": "e9b5fb2b-d668-441a-b034-e2a4653ac2ea",
   "metadata": {},
   "outputs": [
    {
     "data": {
      "text/plain": [
       "800"
      ]
     },
     "execution_count": 36,
     "metadata": {},
     "output_type": "execute_result"
    }
   ],
   "source": [
    "len(set(df_overview_A['profileId']).symmetric_difference(set(df_specs_A['profileId'])))"
   ]
  },
  {
   "cell_type": "code",
   "execution_count": 37,
   "id": "022b1c8e-0e3b-49a3-86eb-51b0cf61cb8f",
   "metadata": {},
   "outputs": [
    {
     "data": {
      "text/plain": [
       "1167"
      ]
     },
     "execution_count": 37,
     "metadata": {},
     "output_type": "execute_result"
    }
   ],
   "source": [
    "len(set(df_overview_A['profileId']).symmetric_difference(set(df_feats_A['profileId'])))"
   ]
  },
  {
   "cell_type": "code",
   "execution_count": 38,
   "id": "b3352be3-e1ae-468b-a470-2f009df0cce7",
   "metadata": {},
   "outputs": [
    {
     "data": {
      "text/plain": [
       "443"
      ]
     },
     "execution_count": 38,
     "metadata": {},
     "output_type": "execute_result"
    }
   ],
   "source": [
    "# BETWEEN FEATURES AND SPECIFICATIONS\n",
    "len(set(df_specs_A['profileId']).symmetric_difference(set(df_feats_A['profileId'])))"
   ]
  },
  {
   "cell_type": "markdown",
   "id": "fa14095f-8729-4417-9a2e-f18632b90ef8",
   "metadata": {},
   "source": [
    "* specification lacks 800 car records which is in overview\n",
    "* features lacks 1167 car records found in overview\n",
    "* lacking data from overview can be eliminated during EDA, as features data will not be used much for prediction and most of the EDA\n",
    "* examining Dataset B"
   ]
  },
  {
   "cell_type": "markdown",
   "id": "5c7a4533-9d66-4c97-8f74-3c419eac5c98",
   "metadata": {
    "jp-MarkdownHeadingCollapsed": true
   },
   "source": [
    "## <div style = \"padding: 20px; border-radius: 40px; background-color: #9FE2BF\"> Dataset B </div>"
   ]
  },
  {
   "cell_type": "markdown",
   "id": "45de66d7-af5c-4daa-88e5-ae4841df6dae",
   "metadata": {},
   "source": [
    "- using a similar strategy as used for dataset A above to consolidate the specification and features data in a separate file\n",
    "- since all the files are organised in categories, its easy to use a single function for consolidation"
   ]
  },
  {
   "cell_type": "code",
   "execution_count": 40,
   "id": "1ac47752-a65c-464f-a3af-652a681879c2",
   "metadata": {},
   "outputs": [],
   "source": [
    "# function to consolidate overview/specs/features into a single dataframe\n",
    "\n",
    "def extract_combine(folder):\n",
    "    dir = folder\n",
    "    \n",
    "    # main path\n",
    "    path = r\"C:\\Users\\pryns\\OneDrive\\Documents\\Python Works\\zz.carwale data\\01.Data Extraction\\carwale_dataset_B\"\n",
    "           \n",
    "    folderpath = os.path.join(path,dir)\n",
    "    \n",
    "    df_len = []      # storing the length of each file for verification purpose\n",
    "    \n",
    "    # returns the list of directories within the main directory\n",
    "    # looping through the directories and reading the specifications data and combining them into a single dataframe\n",
    "    \n",
    "    for file in list(os.walk(folderpath))[0][2]:\n",
    "        df_item = pd.read_csv(os.path.join(folderpath,file))\n",
    "        try:\n",
    "            df_items = pd.concat([df_items,df_item])\n",
    "        except:\n",
    "            cols = df_item.columns\n",
    "            df_items = pd.DataFrame(columns = cols)\n",
    "            df_items = pd.concat([df_items,df_item])\n",
    "        df_len.append(df_item.shape[0])    # storing the length of each file for verification purpose\n",
    "        print(file,df_item.shape)\n",
    "    return (df_items,df_len)     #returning the final dataframe and the list of lengths of each file"
   ]
  },
  {
   "cell_type": "markdown",
   "id": "50af8b1d-5425-4830-8b24-2c343995f5dc",
   "metadata": {
    "jp-MarkdownHeadingCollapsed": true
   },
   "source": [
    "### CHECKING `Overview` DATA"
   ]
  },
  {
   "cell_type": "code",
   "execution_count": 41,
   "id": "fbd1fd4e-2587-415a-8f43-6440ff881430",
   "metadata": {},
   "outputs": [
    {
     "name": "stdout",
     "output_type": "stream",
     "text": [
      "car_data_overview_bangalore.csv (6639, 57)\n",
      "car_data_overview_chennai.csv (3420, 57)\n",
      "car_data_overview_delhi.csv (9012, 57)\n",
      "car_data_overview_hyderabad.csv (4582, 57)\n",
      "car_data_overview_mumbai.csv (7864, 57)\n"
     ]
    }
   ],
   "source": [
    "df_overview_B, df_overview_len_B = extract_combine('overview')"
   ]
  },
  {
   "cell_type": "code",
   "execution_count": 42,
   "id": "81dc9d8a-b529-4e41-94fc-f24118e5d2e4",
   "metadata": {},
   "outputs": [
    {
     "data": {
      "text/plain": [
       "5"
      ]
     },
     "execution_count": 42,
     "metadata": {},
     "output_type": "execute_result"
    }
   ],
   "source": [
    "# verifying the no. of files checked\n",
    "len(df_overview_len_B)"
   ]
  },
  {
   "cell_type": "code",
   "execution_count": 44,
   "id": "a74b6c7b-bdea-453d-826e-885b34c68eb5",
   "metadata": {},
   "outputs": [
    {
     "data": {
      "text/html": [
       "<div>\n",
       "<style scoped>\n",
       "    .dataframe tbody tr th:only-of-type {\n",
       "        vertical-align: middle;\n",
       "    }\n",
       "\n",
       "    .dataframe tbody tr th {\n",
       "        vertical-align: top;\n",
       "    }\n",
       "\n",
       "    .dataframe thead th {\n",
       "        text-align: right;\n",
       "    }\n",
       "</style>\n",
       "<table border=\"1\" class=\"dataframe\">\n",
       "  <thead>\n",
       "    <tr style=\"text-align: right;\">\n",
       "      <th></th>\n",
       "      <th>carId</th>\n",
       "      <th>profileId</th>\n",
       "      <th>vehicle</th>\n",
       "      <th>city</th>\n",
       "      <th>price</th>\n",
       "      <th>color</th>\n",
       "      <th>kilometers</th>\n",
       "      <th>fuelName</th>\n",
       "      <th>transmissionType</th>\n",
       "      <th>sellerId</th>\n",
       "      <th>...</th>\n",
       "      <th>allowBooking</th>\n",
       "      <th>virtualPhoneNumber</th>\n",
       "      <th>emiPrice</th>\n",
       "      <th>isHomeTestDrive</th>\n",
       "      <th>homeTestDriveSlug</th>\n",
       "      <th>formattedRegistrationDate</th>\n",
       "      <th>fuelEconomy</th>\n",
       "      <th>dealershipLogoUrl</th>\n",
       "      <th>isSold</th>\n",
       "      <th>formattedOriginalPrice</th>\n",
       "    </tr>\n",
       "  </thead>\n",
       "  <tbody>\n",
       "    <tr>\n",
       "      <th>0</th>\n",
       "      <td>0</td>\n",
       "      <td>D4135089</td>\n",
       "      <td>Tata Harrier XZ Dark Edition</td>\n",
       "      <td>Bangalore</td>\n",
       "      <td>18.95 Lakh</td>\n",
       "      <td>Black</td>\n",
       "      <td>39,420</td>\n",
       "      <td>Diesel</td>\n",
       "      <td>Manual</td>\n",
       "      <td>1</td>\n",
       "      <td>...</td>\n",
       "      <td>False</td>\n",
       "      <td>7.303409e+09</td>\n",
       "      <td>31,469</td>\n",
       "      <td>False</td>\n",
       "      <td>{'titlePrefix': '', 'title': 'Home Test Drive'...</td>\n",
       "      <td>Not Available</td>\n",
       "      <td>Not Available</td>\n",
       "      <td>NaN</td>\n",
       "      <td>False</td>\n",
       "      <td>NaN</td>\n",
       "    </tr>\n",
       "    <tr>\n",
       "      <th>1</th>\n",
       "      <td>1</td>\n",
       "      <td>D4170587</td>\n",
       "      <td>BMW 3 Series GT 320d Luxury Line [2014-2016]</td>\n",
       "      <td>Bangalore</td>\n",
       "      <td>34.95 Lakh</td>\n",
       "      <td>Grey</td>\n",
       "      <td>38,703</td>\n",
       "      <td>Diesel</td>\n",
       "      <td>Automatic</td>\n",
       "      <td>1</td>\n",
       "      <td>...</td>\n",
       "      <td>False</td>\n",
       "      <td>7.303409e+09</td>\n",
       "      <td>58,040</td>\n",
       "      <td>False</td>\n",
       "      <td>{'titlePrefix': '', 'title': 'Home Test Drive'...</td>\n",
       "      <td>Not Available</td>\n",
       "      <td>Not Available</td>\n",
       "      <td>NaN</td>\n",
       "      <td>False</td>\n",
       "      <td>NaN</td>\n",
       "    </tr>\n",
       "  </tbody>\n",
       "</table>\n",
       "<p>2 rows × 57 columns</p>\n",
       "</div>"
      ],
      "text/plain": [
       "  carId profileId                                       vehicle       city  \\\n",
       "0     0  D4135089                  Tata Harrier XZ Dark Edition  Bangalore   \n",
       "1     1  D4170587  BMW 3 Series GT 320d Luxury Line [2014-2016]  Bangalore   \n",
       "\n",
       "        price  color kilometers fuelName transmissionType sellerId  ...  \\\n",
       "0  18.95 Lakh  Black     39,420   Diesel           Manual        1  ...   \n",
       "1  34.95 Lakh   Grey     38,703   Diesel        Automatic        1  ...   \n",
       "\n",
       "  allowBooking virtualPhoneNumber emiPrice isHomeTestDrive  \\\n",
       "0        False       7.303409e+09   31,469           False   \n",
       "1        False       7.303409e+09   58,040           False   \n",
       "\n",
       "                                   homeTestDriveSlug  \\\n",
       "0  {'titlePrefix': '', 'title': 'Home Test Drive'...   \n",
       "1  {'titlePrefix': '', 'title': 'Home Test Drive'...   \n",
       "\n",
       "  formattedRegistrationDate    fuelEconomy dealershipLogoUrl isSold  \\\n",
       "0             Not Available  Not Available               NaN  False   \n",
       "1             Not Available  Not Available               NaN  False   \n",
       "\n",
       "  formattedOriginalPrice  \n",
       "0                    NaN  \n",
       "1                    NaN  \n",
       "\n",
       "[2 rows x 57 columns]"
      ]
     },
     "execution_count": 44,
     "metadata": {},
     "output_type": "execute_result"
    }
   ],
   "source": [
    "df_overview_B.head(2)"
   ]
  },
  {
   "cell_type": "code",
   "execution_count": 47,
   "id": "7bd402ce-9f92-455c-a31a-4cd589ca7b40",
   "metadata": {},
   "outputs": [
    {
     "data": {
      "text/plain": [
       "31517"
      ]
     },
     "execution_count": 47,
     "metadata": {},
     "output_type": "execute_result"
    }
   ],
   "source": [
    "df_overview_B.shape[0]"
   ]
  },
  {
   "cell_type": "code",
   "execution_count": 48,
   "id": "59c331ed-9d40-4c9a-8f70-b2915d45b4d2",
   "metadata": {},
   "outputs": [
    {
     "data": {
      "text/plain": [
       "True"
      ]
     },
     "execution_count": 48,
     "metadata": {},
     "output_type": "execute_result"
    }
   ],
   "source": [
    "#verifying each file records with the consilidated dataframe\n",
    "\n",
    "df_overview_B.shape[0] == sum(df_overview_len_B)"
   ]
  },
  {
   "cell_type": "markdown",
   "id": "fee16f31-61e4-4b94-b98b-ac0828769280",
   "metadata": {
    "jp-MarkdownHeadingCollapsed": true
   },
   "source": [
    "### CHECKING `Specifications` DATA"
   ]
  },
  {
   "cell_type": "code",
   "execution_count": 49,
   "id": "9965f1b9-9396-4814-be26-e9399621704b",
   "metadata": {},
   "outputs": [
    {
     "name": "stdout",
     "output_type": "stream",
     "text": [
      "car_data_specs_bangalore.csv (186313, 8)\n",
      "car_data_specs_chennai.csv (97551, 8)\n",
      "car_data_specs_delhi.csv (261004, 8)\n",
      "car_data_specs_hyderabad.csv (129858, 8)\n",
      "car_data_specs_mumbai.csv (219475, 8)\n"
     ]
    }
   ],
   "source": [
    "df_specs_B, df_spec_len_B  = extract_combine('specifications')"
   ]
  },
  {
   "cell_type": "code",
   "execution_count": 50,
   "id": "c37fb748-b51a-47c9-9bf6-0e1954599d5a",
   "metadata": {},
   "outputs": [
    {
     "data": {
      "text/plain": [
       "5"
      ]
     },
     "execution_count": 50,
     "metadata": {},
     "output_type": "execute_result"
    }
   ],
   "source": [
    "# verifying the no. of files checked\n",
    "len(df_spec_len_B)"
   ]
  },
  {
   "cell_type": "code",
   "execution_count": 51,
   "id": "b5fa2fa4-5a8f-4549-ae46-554cdb4a1ed8",
   "metadata": {},
   "outputs": [
    {
     "data": {
      "text/html": [
       "<div>\n",
       "<style scoped>\n",
       "    .dataframe tbody tr th:only-of-type {\n",
       "        vertical-align: middle;\n",
       "    }\n",
       "\n",
       "    .dataframe tbody tr th {\n",
       "        vertical-align: top;\n",
       "    }\n",
       "\n",
       "    .dataframe thead th {\n",
       "        text-align: right;\n",
       "    }\n",
       "</style>\n",
       "<table border=\"1\" class=\"dataframe\">\n",
       "  <thead>\n",
       "    <tr style=\"text-align: right;\">\n",
       "      <th></th>\n",
       "      <th>specName</th>\n",
       "      <th>specValue</th>\n",
       "      <th>specUnit</th>\n",
       "      <th>spec_category</th>\n",
       "      <th>carId</th>\n",
       "      <th>profileId</th>\n",
       "      <th>vehicle</th>\n",
       "      <th>city</th>\n",
       "    </tr>\n",
       "  </thead>\n",
       "  <tbody>\n",
       "    <tr>\n",
       "      <th>0</th>\n",
       "      <td>Engine</td>\n",
       "      <td>1956 cc, 4 Cylinders Inline, 4 Valves/Cylinder...</td>\n",
       "      <td>NaN</td>\n",
       "      <td>Engine &amp; Transmission</td>\n",
       "      <td>0</td>\n",
       "      <td>D4135089</td>\n",
       "      <td>Tata Harrier XZ Dark Edition</td>\n",
       "      <td>Bangalore</td>\n",
       "    </tr>\n",
       "    <tr>\n",
       "      <th>1</th>\n",
       "      <td>Engine Type</td>\n",
       "      <td>2.0 L Kryotec</td>\n",
       "      <td>NaN</td>\n",
       "      <td>Engine &amp; Transmission</td>\n",
       "      <td>0</td>\n",
       "      <td>D4135089</td>\n",
       "      <td>Tata Harrier XZ Dark Edition</td>\n",
       "      <td>Bangalore</td>\n",
       "    </tr>\n",
       "  </tbody>\n",
       "</table>\n",
       "</div>"
      ],
      "text/plain": [
       "      specName                                          specValue specUnit  \\\n",
       "0       Engine  1956 cc, 4 Cylinders Inline, 4 Valves/Cylinder...      NaN   \n",
       "1  Engine Type                                      2.0 L Kryotec      NaN   \n",
       "\n",
       "           spec_category carId profileId                       vehicle  \\\n",
       "0  Engine & Transmission     0  D4135089  Tata Harrier XZ Dark Edition   \n",
       "1  Engine & Transmission     0  D4135089  Tata Harrier XZ Dark Edition   \n",
       "\n",
       "        city  \n",
       "0  Bangalore  \n",
       "1  Bangalore  "
      ]
     },
     "execution_count": 51,
     "metadata": {},
     "output_type": "execute_result"
    }
   ],
   "source": [
    "df_specs_B.head(2)"
   ]
  },
  {
   "cell_type": "code",
   "execution_count": 52,
   "id": "10051089-7e3e-4431-9230-8f290ab0441b",
   "metadata": {},
   "outputs": [
    {
     "data": {
      "text/plain": [
       "894201"
      ]
     },
     "execution_count": 52,
     "metadata": {},
     "output_type": "execute_result"
    }
   ],
   "source": [
    "df_specs_B.shape[0]"
   ]
  },
  {
   "cell_type": "code",
   "execution_count": 53,
   "id": "f7ea2cdb-8088-4a1e-98c6-4314984d8899",
   "metadata": {},
   "outputs": [
    {
     "data": {
      "text/plain": [
       "True"
      ]
     },
     "execution_count": 53,
     "metadata": {},
     "output_type": "execute_result"
    }
   ],
   "source": [
    "#verifying each file records with the consilidated dataframe\n",
    "\n",
    "df_specs_B.shape[0] == sum(df_spec_len_B)"
   ]
  },
  {
   "cell_type": "markdown",
   "id": "1d59d678-42b2-4b3d-bd35-cf07ae4892f9",
   "metadata": {
    "jp-MarkdownHeadingCollapsed": true
   },
   "source": [
    "### CHECKING `Features` DATA"
   ]
  },
  {
   "cell_type": "code",
   "execution_count": 54,
   "id": "a9ab327c-4dd6-496d-8bfc-6b66e9810fd4",
   "metadata": {},
   "outputs": [
    {
     "name": "stdout",
     "output_type": "stream",
     "text": [
      "car_data_features_bangalore.csv (929541, 7)\n",
      "car_data_features_chennai.csv (485335, 7)\n",
      "car_data_features_delhi.csv (1301337, 7)\n",
      "car_data_features_hyderabad.csv (646127, 7)\n",
      "car_data_features_mumbai.csv (1105963, 7)\n"
     ]
    }
   ],
   "source": [
    "df_feats_B, df_feat_len_B = extract_combine('features')"
   ]
  },
  {
   "cell_type": "code",
   "execution_count": 55,
   "id": "522acff8-7008-4acf-8c68-eb628d69ba95",
   "metadata": {},
   "outputs": [
    {
     "data": {
      "text/plain": [
       "5"
      ]
     },
     "execution_count": 55,
     "metadata": {},
     "output_type": "execute_result"
    }
   ],
   "source": [
    "# verifying the no. of files checked\n",
    "len(df_feat_len_B)"
   ]
  },
  {
   "cell_type": "code",
   "execution_count": 56,
   "id": "2cc50427-48f6-4460-8676-f4950db6c7c5",
   "metadata": {},
   "outputs": [
    {
     "data": {
      "text/html": [
       "<div>\n",
       "<style scoped>\n",
       "    .dataframe tbody tr th:only-of-type {\n",
       "        vertical-align: middle;\n",
       "    }\n",
       "\n",
       "    .dataframe tbody tr th {\n",
       "        vertical-align: top;\n",
       "    }\n",
       "\n",
       "    .dataframe thead th {\n",
       "        text-align: right;\n",
       "    }\n",
       "</style>\n",
       "<table border=\"1\" class=\"dataframe\">\n",
       "  <thead>\n",
       "    <tr style=\"text-align: right;\">\n",
       "      <th></th>\n",
       "      <th>itemName</th>\n",
       "      <th>itemValue</th>\n",
       "      <th>feature_category</th>\n",
       "      <th>carId</th>\n",
       "      <th>profileId</th>\n",
       "      <th>vehicle</th>\n",
       "      <th>city</th>\n",
       "    </tr>\n",
       "  </thead>\n",
       "  <tbody>\n",
       "    <tr>\n",
       "      <th>0</th>\n",
       "      <td>Overspeed Warning</td>\n",
       "      <td>True</td>\n",
       "      <td>Safety</td>\n",
       "      <td>0</td>\n",
       "      <td>D4135089</td>\n",
       "      <td>Tata Harrier XZ Dark Edition</td>\n",
       "      <td>Bangalore</td>\n",
       "    </tr>\n",
       "    <tr>\n",
       "      <th>1</th>\n",
       "      <td>Lane Departure Warning</td>\n",
       "      <td>False</td>\n",
       "      <td>Safety</td>\n",
       "      <td>0</td>\n",
       "      <td>D4135089</td>\n",
       "      <td>Tata Harrier XZ Dark Edition</td>\n",
       "      <td>Bangalore</td>\n",
       "    </tr>\n",
       "  </tbody>\n",
       "</table>\n",
       "</div>"
      ],
      "text/plain": [
       "                 itemName itemValue feature_category carId profileId  \\\n",
       "0       Overspeed Warning      True           Safety     0  D4135089   \n",
       "1  Lane Departure Warning     False           Safety     0  D4135089   \n",
       "\n",
       "                        vehicle       city  \n",
       "0  Tata Harrier XZ Dark Edition  Bangalore  \n",
       "1  Tata Harrier XZ Dark Edition  Bangalore  "
      ]
     },
     "execution_count": 56,
     "metadata": {},
     "output_type": "execute_result"
    }
   ],
   "source": [
    "df_feats_B.head(2)"
   ]
  },
  {
   "cell_type": "code",
   "execution_count": 57,
   "id": "3999be3e-4226-400e-b7fc-6b88af43821b",
   "metadata": {},
   "outputs": [
    {
     "data": {
      "text/plain": [
       "4468303"
      ]
     },
     "execution_count": 57,
     "metadata": {},
     "output_type": "execute_result"
    }
   ],
   "source": [
    "df_feats_B.shape[0]"
   ]
  },
  {
   "cell_type": "code",
   "execution_count": 58,
   "id": "d3da6327-2d2b-4b68-bc34-9202b0024425",
   "metadata": {},
   "outputs": [
    {
     "data": {
      "text/plain": [
       "True"
      ]
     },
     "execution_count": 58,
     "metadata": {},
     "output_type": "execute_result"
    }
   ],
   "source": [
    "#verifying each file records with the consilidated dataframe\n",
    "\n",
    "df_feats_B.shape[0] == sum(df_feat_len_B)"
   ]
  },
  {
   "cell_type": "markdown",
   "id": "2c5d6162-31f8-43f9-86a8-87a5ace76ba0",
   "metadata": {
    "jp-MarkdownHeadingCollapsed": true
   },
   "source": [
    "### VERIFYING DATA"
   ]
  },
  {
   "cell_type": "markdown",
   "id": "d46d5509-a26d-4360-97e8-969a9c1e4c79",
   "metadata": {},
   "source": [
    "- `profileId` is a unique identifier of each record/car\n",
    "- this identifier is used to check if all the data in each section is available for all the cars"
   ]
  },
  {
   "cell_type": "markdown",
   "id": "ac40c274-4813-497c-8b02-9a1d98f03968",
   "metadata": {},
   "source": [
    "- finding unique `profileId` values for overview, specifications and features data first\n",
    "- as this is the main data against which we will be combining other data."
   ]
  },
  {
   "cell_type": "code",
   "execution_count": 59,
   "id": "0b2518a9-a280-4f3c-975b-532353415b38",
   "metadata": {},
   "outputs": [
    {
     "name": "stdout",
     "output_type": "stream",
     "text": [
      "unique overview records:       30274\n",
      "unique specification records:  30474\n",
      "unique feature records:        30265\n"
     ]
    }
   ],
   "source": [
    "print(\"unique overview records:      \",df_overview_B['profileId'].unique().shape[0])\n",
    "print(\"unique specification records: \",df_specs_B['profileId'].unique().shape[0])\n",
    "print(\"unique feature records:       \",df_feats_B['profileId'].unique().shape[0])"
   ]
  },
  {
   "cell_type": "markdown",
   "id": "ac436db5-04ec-47a0-92e1-76a979e2c9e3",
   "metadata": {},
   "source": [
    "- a huge difference can be found between overview and specifications as well as features"
   ]
  },
  {
   "cell_type": "code",
   "execution_count": 60,
   "id": "5c7d45f2-940c-4cef-b207-863eed1ef88f",
   "metadata": {},
   "outputs": [
    {
     "data": {
      "text/plain": [
       "1076"
      ]
     },
     "execution_count": 60,
     "metadata": {},
     "output_type": "execute_result"
    }
   ],
   "source": [
    "len(set(df_overview_B['profileId']).symmetric_difference(set(df_specs_B['profileId'])))"
   ]
  },
  {
   "cell_type": "code",
   "execution_count": 61,
   "id": "6ce47ae4-59fe-4527-9309-bde08b258fec",
   "metadata": {},
   "outputs": [
    {
     "data": {
      "text/plain": [
       "1281"
      ]
     },
     "execution_count": 61,
     "metadata": {},
     "output_type": "execute_result"
    }
   ],
   "source": [
    "len(set(df_overview_B['profileId']).symmetric_difference(set(df_feats_B['profileId'])))"
   ]
  },
  {
   "cell_type": "code",
   "execution_count": 62,
   "id": "4d9f07e3-9c8d-4330-8fbe-be8b2f6062d1",
   "metadata": {},
   "outputs": [
    {
     "data": {
      "text/plain": [
       "239"
      ]
     },
     "execution_count": 62,
     "metadata": {},
     "output_type": "execute_result"
    }
   ],
   "source": [
    "# BETWEEN FEATURES AND SPECIFICATIONS\n",
    "len(set(df_specs_B['profileId']).symmetric_difference(set(df_feats_B['profileId'])))"
   ]
  },
  {
   "cell_type": "markdown",
   "id": "b8f91318-5164-4bd9-af45-58b60a730807",
   "metadata": {},
   "source": [
    "* specification lacks 1076 car records which is in overview\n",
    "* features lacks 1281 car records found in overview\n",
    "* lacking data from overview can be eliminated during EDA, as features data will not be used much for prediction and most of the EDA"
   ]
  },
  {
   "cell_type": "markdown",
   "id": "4e96b7a5-a9f3-4955-aaa0-3b7899b21ad0",
   "metadata": {
    "jp-MarkdownHeadingCollapsed": true
   },
   "source": [
    "## SAVING THE FILES FROM STAGE-I PRE-PROCESSING"
   ]
  },
  {
   "cell_type": "code",
   "execution_count": 63,
   "id": "34817ed9-44c4-456c-8537-e71deec894d9",
   "metadata": {},
   "outputs": [],
   "source": [
    "# dataset A\n",
    "df_overview_A.to_csv(r'C:\\Users\\pryns\\OneDrive\\Documents\\Python Works\\zz.carwale data\\02.Pre-Processing\\Pre-processed Data Stage-I\\overview_A.csv',index=False)\n",
    "df_specs_A.to_csv(r'C:\\Users\\pryns\\OneDrive\\Documents\\Python Works\\zz.carwale data\\02.Pre-Processing\\Pre-processed Data Stage-I\\specifications_A.csv',index=False)\n",
    "df_feats_A.to_csv(r'C:\\Users\\pryns\\OneDrive\\Documents\\Python Works\\zz.carwale data\\02.Pre-Processing\\Pre-processed Data Stage-I\\features_A.csv',index=False)"
   ]
  },
  {
   "cell_type": "code",
   "execution_count": 64,
   "id": "f719a5c4-b26b-4431-a358-6eececa184b7",
   "metadata": {},
   "outputs": [],
   "source": [
    "# dataset B\n",
    "df_overview_B.to_csv(r'C:\\Users\\pryns\\OneDrive\\Documents\\Python Works\\zz.carwale data\\02.Pre-Processing\\Pre-processed Data Stage-I\\overview_B.csv',index=False)\n",
    "df_specs_B.to_csv(r'C:\\Users\\pryns\\OneDrive\\Documents\\Python Works\\zz.carwale data\\02.Pre-Processing\\Pre-processed Data Stage-I\\specifications_B.csv',index=False)\n",
    "df_feats_B.to_csv(r'C:\\Users\\pryns\\OneDrive\\Documents\\Python Works\\zz.carwale data\\02.Pre-Processing\\Pre-processed Data Stage-I\\features_B.csv',index=False)"
   ]
  }
 ],
 "metadata": {
  "kernelspec": {
   "display_name": "general",
   "language": "python",
   "name": "general"
  },
  "language_info": {
   "codemirror_mode": {
    "name": "ipython",
    "version": 3
   },
   "file_extension": ".py",
   "mimetype": "text/x-python",
   "name": "python",
   "nbconvert_exporter": "python",
   "pygments_lexer": "ipython3",
   "version": "3.11.4"
  }
 },
 "nbformat": 4,
 "nbformat_minor": 5
}
